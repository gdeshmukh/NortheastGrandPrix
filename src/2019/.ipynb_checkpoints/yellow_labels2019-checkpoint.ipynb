{
 "cells": [
  {
   "cell_type": "code",
   "execution_count": 4,
   "metadata": {},
   "outputs": [],
   "source": [
    "import pandas as pd\n",
    "from datetime import datetime, timedelta, date\n",
    "from collections import defaultdict\n",
    "import json"
   ]
  },
  {
   "cell_type": "code",
   "execution_count": 7,
   "metadata": {},
   "outputs": [],
   "source": [
    "df = pd.read_csv('../../data/2019/2019_mod.csv')"
   ]
  },
  {
   "cell_type": "code",
   "execution_count": 8,
   "metadata": {},
   "outputs": [
    {
     "data": {
      "text/plain": [
       "['1900-01-01 02:06:53.039000']"
      ]
     },
     "execution_count": 8,
     "metadata": {},
     "output_type": "execute_result"
    }
   ],
   "source": [
    "flag_times = []\n",
    "end_times = []\n",
    "green_flag = True\n",
    "for index, row in df.iterrows():\n",
    "    if row.Flag == 'Green':\n",
    "        if green_flag == False:\n",
    "            end_times.append(row['Session Time'])\n",
    "        green_flag = True\n",
    "    elif green_flag and row.Flag == 'Yellow':\n",
    "        flag_times.append(row['Session Time'])\n",
    "        green_flag = False\n",
    "flag_times"
   ]
  },
  {
   "cell_type": "code",
   "execution_count": 4,
   "metadata": {},
   "outputs": [],
   "source": [
    "# _, 77, 55, _, 96"
   ]
  },
  {
   "cell_type": "code",
   "execution_count": 5,
   "metadata": {},
   "outputs": [
    {
     "data": {
      "text/plain": [
       "[7560.0]"
      ]
     },
     "execution_count": 5,
     "metadata": {},
     "output_type": "execute_result"
    }
   ],
   "source": [
    "yellow_flag_second_times = []\n",
    "for f in flag_times:\n",
    "    first_flag = datetime.strptime(f, '%Y-%m-%d %H:%M:%S.%f')\n",
    "    starting_date = datetime(1900, 1, 1)\n",
    "    flag_seconds = (first_flag - starting_date).total_seconds()\n",
    "    flag_seconds = flag_seconds//60 * 60\n",
    "    yellow_flag_second_times.append(flag_seconds)\n",
    "yellow_flag_second_times\n",
    "end_second_times = []\n",
    "for e in end_times:\n",
    "    first_end = datetime.strptime(e, '%Y-%m-%d %H:%M:%S.%f')\n",
    "    starting_date = datetime(1900, 1, 1)\n",
    "    end_seconds = (first_end - starting_date).total_seconds()\n",
    "    end_seconds = end_seconds//60 * 60\n",
    "    end_second_times.append(end_seconds)\n",
    "yellow_flag_second_times"
   ]
  },
  {
   "cell_type": "code",
   "execution_count": 9,
   "metadata": {},
   "outputs": [],
   "source": [
    "is_yellow = {}\n",
    "MAXTIME = 9749\n",
    "for t in range(20, MAXTIME+1, 20):\n",
    "    if t in yellow_flag_second_times or (t+20) in yellow_flag_second_times or (t+40) in yellow_flag_second_times or (t+60) in yellow_flag_second_times:\n",
    "        is_yellow[t] = 1\n",
    "    else:\n",
    "        is_yellow[t] = 0"
   ]
  },
  {
   "cell_type": "code",
   "execution_count": 10,
   "metadata": {},
   "outputs": [],
   "source": [
    "with open('../../data/2019/19_yellow_labels.csv', 'w') as f:\n",
    "    f.write('Time,Yellow\\n')\n",
    "    for key in is_yellow.keys():\n",
    "        f.write(\"%s,%s\\n\"%(key, is_yellow[key]))"
   ]
  },
  {
   "cell_type": "code",
   "execution_count": 11,
   "metadata": {},
   "outputs": [],
   "source": [
    "with open('../../data/2019/19_start_end.csv', 'w') as f:\n",
    "    f.write('Start,End\\n')\n",
    "    for s, e in zip(yellow_flag_second_times,end_second_times):\n",
    "        f.write(\"%s,%s\\n\"%(s, e))"
   ]
  },
  {
   "cell_type": "code",
   "execution_count": 5,
   "metadata": {},
   "outputs": [],
   "source": [
    "with open('../../data/2019/19_start_end_dt.csv', 'w') as f:\n",
    "    f.write('Start,End\\n')\n",
    "    for s, e in zip(flag_times,end_times):\n",
    "        f.write(\"%s,%s\\n\"%(s, e))"
   ]
  },
  {
   "cell_type": "code",
   "execution_count": null,
   "metadata": {},
   "outputs": [],
   "source": []
  }
 ],
 "metadata": {
  "kernelspec": {
   "display_name": "Python 3",
   "language": "python",
   "name": "python3"
  },
  "language_info": {
   "codemirror_mode": {
    "name": "ipython",
    "version": 3
   },
   "file_extension": ".py",
   "mimetype": "text/x-python",
   "name": "python",
   "nbconvert_exporter": "python",
   "pygments_lexer": "ipython3",
   "version": "3.7.6"
  }
 },
 "nbformat": 4,
 "nbformat_minor": 4
}
