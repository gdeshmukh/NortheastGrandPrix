{
 "cells": [
  {
   "cell_type": "code",
   "execution_count": 1,
   "metadata": {},
   "outputs": [],
   "source": [
    "import pandas as pd"
   ]
  },
  {
   "cell_type": "code",
   "execution_count": 4,
   "metadata": {},
   "outputs": [],
   "source": [
    "concentration = pd.read_csv('../../data/2017/17_concentrations.csv')\n",
    "labels = pd.read_csv('../../data/2017/17_yellow_labels.csv')\n",
    "pit = pd.read_csv('../../data/2017/17_time_since_pit.csv')\n",
    "# weather = pd.read_csv('../../data/2017/17_weather.csv', sep=';')"
   ]
  },
  {
   "cell_type": "code",
   "execution_count": 5,
   "metadata": {},
   "outputs": [],
   "source": [
    "max_concentration = pd.DataFrame(columns=['Time', 'Max Concentration'])\n",
    "temp_max = 0\n",
    "for index, row in concentration.iterrows():\n",
    "    sector = row[1]\n",
    "    if sector == 1:\n",
    "        temp_max = 0\n",
    "    if row[2] > temp_max:\n",
    "        temp_max = row[2]\n",
    "    if sector == 13:\n",
    "        max_concentration.loc[index] = [row[0], temp_max]"
   ]
  },
  {
   "cell_type": "code",
   "execution_count": 6,
   "metadata": {},
   "outputs": [],
   "source": [
    "# start_time = weather['TIME_UTC_SECONDS'].iloc[0]\n",
    "\n",
    "# with open('../../data/2017/weather_mod.csv', 'w') as f:\n",
    "#     f.write('Time,Track Temp,Wind Speed,Rain\\n')\n",
    "#     for index, row in weather.iterrows():\n",
    "#             f.write(\"%s,%s,%s,%s\\n\"%((row[0]-start_time)//20 * 20, row[3], row[6], row[8]))\n",
    "#             f.write(\"%s,%s,%s,%s\\n\"%((row[0]-start_time+20)//20 * 20, row[3], row[6], row[8]))\n",
    "#             f.write(\"%s,%s,%s,%s\\n\"%((row[0]-start_time+40)//20 * 20, row[3], row[6], row[8]))\n",
    "# weather_mod = pd.read_csv('../../data/2017/weather_mod.csv')\n",
    "# # weather_mod[weather_mod['Time'] == 16940]"
   ]
  },
  {
   "cell_type": "code",
   "execution_count": 13,
   "metadata": {},
   "outputs": [
    {
     "data": {
      "text/html": [
       "<div>\n",
       "<style scoped>\n",
       "    .dataframe tbody tr th:only-of-type {\n",
       "        vertical-align: middle;\n",
       "    }\n",
       "\n",
       "    .dataframe tbody tr th {\n",
       "        vertical-align: top;\n",
       "    }\n",
       "\n",
       "    .dataframe thead th {\n",
       "        text-align: right;\n",
       "    }\n",
       "</style>\n",
       "<table border=\"1\" class=\"dataframe\">\n",
       "  <thead>\n",
       "    <tr style=\"text-align: right;\">\n",
       "      <th></th>\n",
       "      <th>Time</th>\n",
       "      <th>Max Concentration</th>\n",
       "      <th>Last Pit</th>\n",
       "      <th>Yellow</th>\n",
       "    </tr>\n",
       "  </thead>\n",
       "  <tbody>\n",
       "    <tr>\n",
       "      <th>0</th>\n",
       "      <td>20.0</td>\n",
       "      <td>30.833709</td>\n",
       "      <td>0.333333</td>\n",
       "      <td>0</td>\n",
       "    </tr>\n",
       "    <tr>\n",
       "      <th>1</th>\n",
       "      <td>40.0</td>\n",
       "      <td>19.788881</td>\n",
       "      <td>0.666667</td>\n",
       "      <td>0</td>\n",
       "    </tr>\n",
       "    <tr>\n",
       "      <th>2</th>\n",
       "      <td>60.0</td>\n",
       "      <td>22.615864</td>\n",
       "      <td>1.000000</td>\n",
       "      <td>0</td>\n",
       "    </tr>\n",
       "    <tr>\n",
       "      <th>3</th>\n",
       "      <td>80.0</td>\n",
       "      <td>24.406780</td>\n",
       "      <td>1.333333</td>\n",
       "      <td>0</td>\n",
       "    </tr>\n",
       "    <tr>\n",
       "      <th>4</th>\n",
       "      <td>100.0</td>\n",
       "      <td>17.844887</td>\n",
       "      <td>1.666667</td>\n",
       "      <td>0</td>\n",
       "    </tr>\n",
       "    <tr>\n",
       "      <th>...</th>\n",
       "      <td>...</td>\n",
       "      <td>...</td>\n",
       "      <td>...</td>\n",
       "      <td>...</td>\n",
       "    </tr>\n",
       "    <tr>\n",
       "      <th>4322</th>\n",
       "      <td>86460.0</td>\n",
       "      <td>6.280941</td>\n",
       "      <td>57.155050</td>\n",
       "      <td>0</td>\n",
       "    </tr>\n",
       "    <tr>\n",
       "      <th>4323</th>\n",
       "      <td>86480.0</td>\n",
       "      <td>4.204625</td>\n",
       "      <td>57.488383</td>\n",
       "      <td>0</td>\n",
       "    </tr>\n",
       "    <tr>\n",
       "      <th>4324</th>\n",
       "      <td>86500.0</td>\n",
       "      <td>3.957776</td>\n",
       "      <td>57.821717</td>\n",
       "      <td>0</td>\n",
       "    </tr>\n",
       "    <tr>\n",
       "      <th>4325</th>\n",
       "      <td>86520.0</td>\n",
       "      <td>4.067797</td>\n",
       "      <td>58.155050</td>\n",
       "      <td>0</td>\n",
       "    </tr>\n",
       "    <tr>\n",
       "      <th>4326</th>\n",
       "      <td>86540.0</td>\n",
       "      <td>4.118051</td>\n",
       "      <td>58.488383</td>\n",
       "      <td>0</td>\n",
       "    </tr>\n",
       "  </tbody>\n",
       "</table>\n",
       "<p>4327 rows × 4 columns</p>\n",
       "</div>"
      ],
      "text/plain": [
       "         Time  Max Concentration   Last Pit  Yellow\n",
       "0        20.0          30.833709   0.333333       0\n",
       "1        40.0          19.788881   0.666667       0\n",
       "2        60.0          22.615864   1.000000       0\n",
       "3        80.0          24.406780   1.333333       0\n",
       "4       100.0          17.844887   1.666667       0\n",
       "...       ...                ...        ...     ...\n",
       "4322  86460.0           6.280941  57.155050       0\n",
       "4323  86480.0           4.204625  57.488383       0\n",
       "4324  86500.0           3.957776  57.821717       0\n",
       "4325  86520.0           4.067797  58.155050       0\n",
       "4326  86540.0           4.118051  58.488383       0\n",
       "\n",
       "[4327 rows x 4 columns]"
      ]
     },
     "execution_count": 13,
     "metadata": {},
     "output_type": "execute_result"
    }
   ],
   "source": [
    "agg = max_concentration.merge(pit, how='inner', on='Time')\n",
    "# agg = agg.merge(weather_mod, how='inner', on='Time')\n",
    "agg = agg.merge(labels, how='inner', on='Time')\n",
    "agg"
   ]
  },
  {
   "cell_type": "code",
   "execution_count": 9,
   "metadata": {},
   "outputs": [],
   "source": [
    "agg.to_csv('../../data/2017/17_agg_data.csv', index=False)"
   ]
  },
  {
   "cell_type": "code",
   "execution_count": 5,
   "metadata": {},
   "outputs": [],
   "source": [
    "times = [3720.0, 20100.0, 28500.0, 33960.0, 39060.0]\n",
    "times = [t//60*60 for t in times]\n",
    "MAXTIME = 43200\n",
    "with open('../../data/2017/17_flag_times.csv', 'w') as f:\n",
    "    f.write('Time,Flag\\n')\n",
    "    for i in range(0,MAXTIME,60):\n",
    "        if i+120 in times:\n",
    "            f.write('%s,1\\n'%(i))\n",
    "            f.write('%s,1\\n'%(i+60))\n",
    "            f.write('%s,1\\n'%(i+120))\n",
    "            i = i + 120\n",
    "        else:\n",
    "            f.write('%s,0\\n'%(i))\n"
   ]
  },
  {
   "cell_type": "code",
   "execution_count": 6,
   "metadata": {},
   "outputs": [],
   "source": [
    "labels = pd.read_csv('../../data/2017/17_flag_times.csv')\n",
    "risk = pd.read_csv('../../data/2017/17_risk_score.csv')\n",
    "sus = pd.read_csv('../../data/2017/17_sus_deriv.csv')\n",
    "agg = risk.merge(sus, how='inner', on='Time')\n",
    "agg = agg.merge(labels, how='inner', on='Time')\n",
    "agg.to_csv('../../data/2017/17_agg_score.csv', index=False)"
   ]
  },
  {
   "cell_type": "code",
   "execution_count": null,
   "metadata": {},
   "outputs": [],
   "source": []
  }
 ],
 "metadata": {
  "kernelspec": {
   "display_name": "Python 3",
   "language": "python",
   "name": "python3"
  },
  "language_info": {
   "codemirror_mode": {
    "name": "ipython",
    "version": 3
   },
   "file_extension": ".py",
   "mimetype": "text/x-python",
   "name": "python",
   "nbconvert_exporter": "python",
   "pygments_lexer": "ipython3",
   "version": "3.8.3"
  }
 },
 "nbformat": 4,
 "nbformat_minor": 4
}
