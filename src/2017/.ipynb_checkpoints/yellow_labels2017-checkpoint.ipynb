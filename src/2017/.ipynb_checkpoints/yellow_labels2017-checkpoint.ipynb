{
 "cells": [
  {
   "cell_type": "code",
   "execution_count": 1,
   "metadata": {},
   "outputs": [],
   "source": [
    "import pandas as pd\n",
    "from datetime import datetime, timedelta, date\n",
    "from collections import defaultdict\n",
    "import json"
   ]
  },
  {
   "cell_type": "code",
   "execution_count": 2,
   "metadata": {},
   "outputs": [],
   "source": [
    "df = pd.read_csv('../../data/2017/2017_mod.csv')"
   ]
  },
  {
   "cell_type": "code",
   "execution_count": 3,
   "metadata": {},
   "outputs": [
    {
     "data": {
      "text/plain": [
       "['1900-01-01 01:44:46.231000',\n",
       " '1900-01-01 02:35:29.305000',\n",
       " '1900-01-01 02:58:07.951000',\n",
       " '1900-01-01 03:16:05.272000',\n",
       " '1900-01-01 05:23:43.005000']"
      ]
     },
     "execution_count": 3,
     "metadata": {},
     "output_type": "execute_result"
    }
   ],
   "source": [
    "flag_times = []\n",
    "end_times = []\n",
    "green_flag = True\n",
    "for index, row in df.iterrows():\n",
    "    if row.Flag == 'Green':\n",
    "        if green_flag == False:\n",
    "            end_times.append(row['Session Time'])\n",
    "        green_flag = True\n",
    "    elif green_flag and row.Flag == 'Yellow':\n",
    "        flag_times.append(row['Session Time'])\n",
    "        green_flag = False\n",
    "flag_times"
   ]
  },
  {
   "cell_type": "markdown",
   "metadata": {},
   "source": []
  },
  {
   "cell_type": "code",
   "execution_count": 4,
   "metadata": {},
   "outputs": [
    {
     "data": {
      "text/plain": [
       "[6240.0, 9300.0, 10680.0, 11760.0, 19380.0]"
      ]
     },
     "execution_count": 4,
     "metadata": {},
     "output_type": "execute_result"
    }
   ],
   "source": [
    "yellow_flag_second_times = []\n",
    "for f in flag_times:\n",
    "    first_flag = datetime.strptime(f, '%Y-%m-%d %H:%M:%S.%f')\n",
    "    starting_date = datetime(1900, 1, 1)\n",
    "    flag_seconds = (first_flag - starting_date).total_seconds()\n",
    "    flag_seconds = flag_seconds//60 * 60\n",
    "    yellow_flag_second_times.append(flag_seconds)\n",
    "yellow_flag_second_times\n",
    "end_second_times = []\n",
    "for e in end_times:\n",
    "    first_end = datetime.strptime(e, '%Y-%m-%d %H:%M:%S.%f')\n",
    "    starting_date = datetime(1900, 1, 1)\n",
    "    end_seconds = (first_end - starting_date).total_seconds()\n",
    "    end_seconds = end_seconds//60 * 60\n",
    "    end_second_times.append(end_seconds)\n",
    "yellow_flag_second_times"
   ]
  },
  {
   "cell_type": "code",
   "execution_count": 5,
   "metadata": {},
   "outputs": [],
   "source": [
    "with open('../../data/2017/17_start_end.csv', 'w') as f:\n",
    "    f.write('Start,End\\n')\n",
    "    for s, e in zip(yellow_flag_second_times,end_second_times):\n",
    "        f.write(\"%s,%s\\n\"%(s, e))"
   ]
  },
  {
   "cell_type": "code",
   "execution_count": 6,
   "metadata": {},
   "outputs": [],
   "source": [
    "with open('../../data/2017/17_start_end_dt.csv', 'w') as f:\n",
    "    f.write('Start,End\\n')\n",
    "    for s, e in zip(flag_times,end_times):\n",
    "        f.write(\"%s,%s\\n\"%(s, e))"
   ]
  },
  {
   "cell_type": "code",
   "execution_count": 7,
   "metadata": {},
   "outputs": [
    {
     "ename": "FileNotFoundError",
     "evalue": "[Errno 2] No such file or directory: '../../data/2017/17_num_drivers.json'",
     "output_type": "error",
     "traceback": [
      "\u001b[1;31m---------------------------------------------------------------------------\u001b[0m",
      "\u001b[1;31mFileNotFoundError\u001b[0m                         Traceback (most recent call last)",
      "\u001b[1;32m<ipython-input-7-66d0518154e2>\u001b[0m in \u001b[0;36m<module>\u001b[1;34m\u001b[0m\n\u001b[1;32m----> 1\u001b[1;33m \u001b[1;32mwith\u001b[0m \u001b[0mopen\u001b[0m\u001b[1;33m(\u001b[0m\u001b[1;34m'../../data/2017/17_num_drivers.json'\u001b[0m\u001b[1;33m)\u001b[0m \u001b[1;32mas\u001b[0m \u001b[0mjson_file\u001b[0m\u001b[1;33m:\u001b[0m\u001b[1;33m\u001b[0m\u001b[1;33m\u001b[0m\u001b[0m\n\u001b[0m\u001b[0;32m      2\u001b[0m     \u001b[0md\u001b[0m \u001b[1;33m=\u001b[0m \u001b[0mjson\u001b[0m\u001b[1;33m.\u001b[0m\u001b[0mload\u001b[0m\u001b[1;33m(\u001b[0m\u001b[0mjson_file\u001b[0m\u001b[1;33m)\u001b[0m\u001b[1;33m\u001b[0m\u001b[1;33m\u001b[0m\u001b[0m\n\u001b[0;32m      3\u001b[0m \u001b[1;33m\u001b[0m\u001b[0m\n\u001b[0;32m      4\u001b[0m \u001b[0mtimes\u001b[0m \u001b[1;33m=\u001b[0m \u001b[0mlist\u001b[0m\u001b[1;33m(\u001b[0m\u001b[0md\u001b[0m\u001b[1;33m.\u001b[0m\u001b[0mkeys\u001b[0m\u001b[1;33m(\u001b[0m\u001b[1;33m)\u001b[0m\u001b[1;33m)\u001b[0m\u001b[1;33m\u001b[0m\u001b[1;33m\u001b[0m\u001b[0m\n\u001b[0;32m      5\u001b[0m \u001b[0mtimes\u001b[0m \u001b[1;33m=\u001b[0m \u001b[1;33m[\u001b[0m\u001b[0mint\u001b[0m\u001b[1;33m(\u001b[0m\u001b[0mt\u001b[0m\u001b[1;33m)\u001b[0m \u001b[1;32mfor\u001b[0m \u001b[0mt\u001b[0m \u001b[1;32min\u001b[0m \u001b[0mtimes\u001b[0m\u001b[1;33m]\u001b[0m\u001b[1;33m\u001b[0m\u001b[1;33m\u001b[0m\u001b[0m\n",
      "\u001b[1;31mFileNotFoundError\u001b[0m: [Errno 2] No such file or directory: '../../data/2017/17_num_drivers.json'"
     ]
    }
   ],
   "source": [
    "with open('../../data/2017/17_num_drivers.json') as json_file:\n",
    "    d = json.load(json_file)\n",
    "    \n",
    "times = list(d.keys())\n",
    "times = [int(t) for t in times]\n",
    "MAXTIME = max(times)"
   ]
  },
  {
   "cell_type": "code",
   "execution_count": 8,
   "metadata": {},
   "outputs": [],
   "source": [
    "is_yellow = {}\n",
    "for t in range(20, 21772+1, 20):\n",
    "    if t in yellow_flag_second_times or (t+20) in yellow_flag_second_times or (t+40) in yellow_flag_second_times or (t+60) in yellow_flag_second_times:\n",
    "        is_yellow[t] = 1\n",
    "    else:\n",
    "        is_yellow[t] = 0"
   ]
  },
  {
   "cell_type": "code",
   "execution_count": 9,
   "metadata": {},
   "outputs": [],
   "source": [
    "with open('../../data/2017/17_yellow_labels.csv', 'w') as f:\n",
    "    f.write('Time,Yellow\\n')\n",
    "    for key in is_yellow.keys():\n",
    "        f.write(\"%s,%s\\n\"%(key, is_yellow[key]))"
   ]
  },
  {
   "cell_type": "code",
   "execution_count": null,
   "metadata": {},
   "outputs": [],
   "source": []
  }
 ],
 "metadata": {
  "kernelspec": {
   "display_name": "Python 3",
   "language": "python",
   "name": "python3"
  },
  "language_info": {
   "codemirror_mode": {
    "name": "ipython",
    "version": 3
   },
   "file_extension": ".py",
   "mimetype": "text/x-python",
   "name": "python",
   "nbconvert_exporter": "python",
   "pygments_lexer": "ipython3",
   "version": "3.7.6"
  }
 },
 "nbformat": 4,
 "nbformat_minor": 4
}
