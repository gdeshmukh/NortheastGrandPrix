{
 "cells": [
  {
   "cell_type": "code",
   "execution_count": 1,
   "metadata": {},
   "outputs": [],
   "source": [
    "import pandas as pd\n",
    "import numpy as np\n",
    "from datetime import datetime, timedelta, date\n",
    "from collections import defaultdict\n",
    "import json\n",
    "from scipy.stats import norm\n",
    "import matplotlib.pyplot as plt"
   ]
  },
  {
   "cell_type": "code",
   "execution_count": 2,
   "metadata": {},
   "outputs": [],
   "source": [
    "df = pd.read_csv('../../data/2018/2018_mod.csv')"
   ]
  },
  {
   "cell_type": "code",
   "execution_count": 6,
   "metadata": {},
   "outputs": [],
   "source": [
    "se = pd.read_csv('../../data/2018/18_start_end_dt.csv')\n",
    "se = [(datetime.strptime(row.Start, '%Y-%m-%d %H:%M:%S.%f'), datetime.strptime(row.End, '%Y-%m-%d %H:%M:%S.%f')) for index,row in se.iterrows()]\n",
    "\n",
    "def checkGreen(time):\n",
    "    t = datetime.strptime(time, '%Y-%m-%d %H:%M:%S.%f')\n",
    "    for interval in se:\n",
    "        if t > interval[0] and t < interval[1] + timedelta(minutes=2):\n",
    "            return False\n",
    "            \n",
    "    return True"
   ]
  },
  {
   "cell_type": "code",
   "execution_count": 7,
   "metadata": {},
   "outputs": [
    {
     "data": {
      "text/plain": [
       "'Dane Cameron'"
      ]
     },
     "execution_count": 7,
     "metadata": {},
     "output_type": "execute_result"
    }
   ],
   "source": [
    "drivers = df['Driver'].unique()\n",
    "lap_var = defaultdict(list)\n",
    "drivers[0]"
   ]
  },
  {
   "cell_type": "code",
   "execution_count": 8,
   "metadata": {},
   "outputs": [
    {
     "data": {
      "text/html": [
       "<div>\n",
       "<style scoped>\n",
       "    .dataframe tbody tr th:only-of-type {\n",
       "        vertical-align: middle;\n",
       "    }\n",
       "\n",
       "    .dataframe tbody tr th {\n",
       "        vertical-align: top;\n",
       "    }\n",
       "\n",
       "    .dataframe thead th {\n",
       "        text-align: right;\n",
       "    }\n",
       "</style>\n",
       "<table border=\"1\" class=\"dataframe\">\n",
       "  <thead>\n",
       "    <tr style=\"text-align: right;\">\n",
       "      <th></th>\n",
       "      <th>Car</th>\n",
       "      <th>Class</th>\n",
       "      <th>Driver</th>\n",
       "      <th>Lap</th>\n",
       "      <th>Lap Time</th>\n",
       "      <th>Session Time</th>\n",
       "      <th>Flag</th>\n",
       "      <th>Location</th>\n",
       "      <th>S01</th>\n",
       "      <th>S02</th>\n",
       "      <th>S03</th>\n",
       "      <th>SDT</th>\n",
       "      <th>LTS</th>\n",
       "    </tr>\n",
       "  </thead>\n",
       "  <tbody>\n",
       "    <tr>\n",
       "      <th>0</th>\n",
       "      <td>60</td>\n",
       "      <td>DPi</td>\n",
       "      <td>Dane Cameron</td>\n",
       "      <td>1</td>\n",
       "      <td>1:33.516</td>\n",
       "      <td>1900-01-01 00:01:33.516000</td>\n",
       "      <td>Green</td>\n",
       "      <td>Track</td>\n",
       "      <td>22.848</td>\n",
       "      <td>34.595</td>\n",
       "      <td>35.924</td>\n",
       "      <td>1900-01-01 00:01:33.516</td>\n",
       "      <td>93.516</td>\n",
       "    </tr>\n",
       "    <tr>\n",
       "      <th>1</th>\n",
       "      <td>10</td>\n",
       "      <td>DPi</td>\n",
       "      <td>Ricky Taylor</td>\n",
       "      <td>1</td>\n",
       "      <td>1:35.417</td>\n",
       "      <td>1900-01-01 00:01:35.417000</td>\n",
       "      <td>Green</td>\n",
       "      <td>Track</td>\n",
       "      <td>22.959</td>\n",
       "      <td>36.004</td>\n",
       "      <td>36.453</td>\n",
       "      <td>1900-01-01 00:01:35.417</td>\n",
       "      <td>95.417</td>\n",
       "    </tr>\n",
       "    <tr>\n",
       "      <th>2</th>\n",
       "      <td>48</td>\n",
       "      <td>DPi</td>\n",
       "      <td>Kamui Kobayashi</td>\n",
       "      <td>1</td>\n",
       "      <td>1:36.550</td>\n",
       "      <td>1900-01-01 00:01:36.550000</td>\n",
       "      <td>Green</td>\n",
       "      <td>Track</td>\n",
       "      <td>22.767</td>\n",
       "      <td>36.688</td>\n",
       "      <td>36.714</td>\n",
       "      <td>1900-01-01 00:01:36.550</td>\n",
       "      <td>96.550</td>\n",
       "    </tr>\n",
       "    <tr>\n",
       "      <th>3</th>\n",
       "      <td>1</td>\n",
       "      <td>DPi</td>\n",
       "      <td>Renger van der Zande</td>\n",
       "      <td>1</td>\n",
       "      <td>1:36.976</td>\n",
       "      <td>1900-01-01 00:01:36.976000</td>\n",
       "      <td>Green</td>\n",
       "      <td>Track</td>\n",
       "      <td>23.153</td>\n",
       "      <td>36.878</td>\n",
       "      <td>36.699</td>\n",
       "      <td>1900-01-01 00:01:36.976</td>\n",
       "      <td>96.976</td>\n",
       "    </tr>\n",
       "    <tr>\n",
       "      <th>4</th>\n",
       "      <td>5</td>\n",
       "      <td>DPi</td>\n",
       "      <td>Tristan Vautier</td>\n",
       "      <td>1</td>\n",
       "      <td>1:37.730</td>\n",
       "      <td>1900-01-01 00:01:37.730000</td>\n",
       "      <td>Green</td>\n",
       "      <td>Track</td>\n",
       "      <td>23.084</td>\n",
       "      <td>37.111</td>\n",
       "      <td>36.947</td>\n",
       "      <td>1900-01-01 00:01:37.730</td>\n",
       "      <td>97.730</td>\n",
       "    </tr>\n",
       "    <tr>\n",
       "      <th>...</th>\n",
       "      <td>...</td>\n",
       "      <td>...</td>\n",
       "      <td>...</td>\n",
       "      <td>...</td>\n",
       "      <td>...</td>\n",
       "      <td>...</td>\n",
       "      <td>...</td>\n",
       "      <td>...</td>\n",
       "      <td>...</td>\n",
       "      <td>...</td>\n",
       "      <td>...</td>\n",
       "      <td>...</td>\n",
       "      <td>...</td>\n",
       "    </tr>\n",
       "    <tr>\n",
       "      <th>6346</th>\n",
       "      <td>4</td>\n",
       "      <td>GTLM</td>\n",
       "      <td>Nick Tandy</td>\n",
       "      <td>187</td>\n",
       "      <td>1:45.783</td>\n",
       "      <td>1900-01-01 06:00:56.107000</td>\n",
       "      <td>Finish</td>\n",
       "      <td>Track</td>\n",
       "      <td>24.055</td>\n",
       "      <td>39.775</td>\n",
       "      <td>41.953</td>\n",
       "      <td>1900-01-01 06:00:56.107</td>\n",
       "      <td>105.783</td>\n",
       "    </tr>\n",
       "    <tr>\n",
       "      <th>6347</th>\n",
       "      <td>88</td>\n",
       "      <td>GTD</td>\n",
       "      <td>Katherine Legge</td>\n",
       "      <td>179</td>\n",
       "      <td>1:49.722</td>\n",
       "      <td>1900-01-01 06:00:58.292000</td>\n",
       "      <td>Finish</td>\n",
       "      <td>Track</td>\n",
       "      <td>25.343</td>\n",
       "      <td>41.624</td>\n",
       "      <td>42.755</td>\n",
       "      <td>1900-01-01 06:00:58.292</td>\n",
       "      <td>109.722</td>\n",
       "    </tr>\n",
       "    <tr>\n",
       "      <th>6348</th>\n",
       "      <td>12</td>\n",
       "      <td>GTD</td>\n",
       "      <td>Zach Veach</td>\n",
       "      <td>179</td>\n",
       "      <td>1:50.055</td>\n",
       "      <td>1900-01-01 06:01:03.180000</td>\n",
       "      <td>Finish</td>\n",
       "      <td>Track</td>\n",
       "      <td>25.346</td>\n",
       "      <td>41.587</td>\n",
       "      <td>43.122</td>\n",
       "      <td>1900-01-01 06:01:03.180</td>\n",
       "      <td>110.055</td>\n",
       "    </tr>\n",
       "    <tr>\n",
       "      <th>6349</th>\n",
       "      <td>36</td>\n",
       "      <td>LMP3</td>\n",
       "      <td>Oliver Askew</td>\n",
       "      <td>185</td>\n",
       "      <td>1:47.078</td>\n",
       "      <td>1900-01-01 06:01:03.807000</td>\n",
       "      <td>Finish</td>\n",
       "      <td>Track</td>\n",
       "      <td>24.336</td>\n",
       "      <td>39.460</td>\n",
       "      <td>43.282</td>\n",
       "      <td>1900-01-01 06:01:03.807</td>\n",
       "      <td>107.078</td>\n",
       "    </tr>\n",
       "    <tr>\n",
       "      <th>6350</th>\n",
       "      <td>22</td>\n",
       "      <td>LMP2</td>\n",
       "      <td>Guy Smith</td>\n",
       "      <td>193</td>\n",
       "      <td>1:43.963</td>\n",
       "      <td>1900-01-01 06:01:13.730000</td>\n",
       "      <td>Finish</td>\n",
       "      <td>Track</td>\n",
       "      <td>24.185</td>\n",
       "      <td>39.200</td>\n",
       "      <td>40.578</td>\n",
       "      <td>1900-01-01 06:01:13.730</td>\n",
       "      <td>103.963</td>\n",
       "    </tr>\n",
       "  </tbody>\n",
       "</table>\n",
       "<p>6351 rows × 13 columns</p>\n",
       "</div>"
      ],
      "text/plain": [
       "      Car Class                Driver  Lap  Lap Time  \\\n",
       "0      60   DPi          Dane Cameron    1  1:33.516   \n",
       "1      10   DPi          Ricky Taylor    1  1:35.417   \n",
       "2      48   DPi       Kamui Kobayashi    1  1:36.550   \n",
       "3       1   DPi  Renger van der Zande    1  1:36.976   \n",
       "4       5   DPi       Tristan Vautier    1  1:37.730   \n",
       "...   ...   ...                   ...  ...       ...   \n",
       "6346    4  GTLM            Nick Tandy  187  1:45.783   \n",
       "6347   88   GTD       Katherine Legge  179  1:49.722   \n",
       "6348   12   GTD            Zach Veach  179  1:50.055   \n",
       "6349   36  LMP3          Oliver Askew  185  1:47.078   \n",
       "6350   22  LMP2             Guy Smith  193  1:43.963   \n",
       "\n",
       "                    Session Time    Flag Location     S01     S02     S03  \\\n",
       "0     1900-01-01 00:01:33.516000   Green    Track  22.848  34.595  35.924   \n",
       "1     1900-01-01 00:01:35.417000   Green    Track  22.959  36.004  36.453   \n",
       "2     1900-01-01 00:01:36.550000   Green    Track  22.767  36.688  36.714   \n",
       "3     1900-01-01 00:01:36.976000   Green    Track  23.153  36.878  36.699   \n",
       "4     1900-01-01 00:01:37.730000   Green    Track  23.084  37.111  36.947   \n",
       "...                          ...     ...      ...     ...     ...     ...   \n",
       "6346  1900-01-01 06:00:56.107000  Finish    Track  24.055  39.775  41.953   \n",
       "6347  1900-01-01 06:00:58.292000  Finish    Track  25.343  41.624  42.755   \n",
       "6348  1900-01-01 06:01:03.180000  Finish    Track  25.346  41.587  43.122   \n",
       "6349  1900-01-01 06:01:03.807000  Finish    Track  24.336  39.460  43.282   \n",
       "6350  1900-01-01 06:01:13.730000  Finish    Track  24.185  39.200  40.578   \n",
       "\n",
       "                         SDT      LTS  \n",
       "0    1900-01-01 00:01:33.516   93.516  \n",
       "1    1900-01-01 00:01:35.417   95.417  \n",
       "2    1900-01-01 00:01:36.550   96.550  \n",
       "3    1900-01-01 00:01:36.976   96.976  \n",
       "4    1900-01-01 00:01:37.730   97.730  \n",
       "...                      ...      ...  \n",
       "6346 1900-01-01 06:00:56.107  105.783  \n",
       "6347 1900-01-01 06:00:58.292  109.722  \n",
       "6348 1900-01-01 06:01:03.180  110.055  \n",
       "6349 1900-01-01 06:01:03.807  107.078  \n",
       "6350 1900-01-01 06:01:13.730  103.963  \n",
       "\n",
       "[6351 rows x 13 columns]"
      ]
     },
     "execution_count": 8,
     "metadata": {},
     "output_type": "execute_result"
    }
   ],
   "source": [
    "df['SDT'] = pd.to_datetime(df['Session Time'], format='%Y-%m-%d %H:%M:%S.%f')\n",
    "LapDT = pd.to_datetime(df['Lap Time'], format='%M:%S.%f')\n",
    "df['LTS'] = [(t - datetime(1900, 1, 1)).total_seconds() for t in LapDT]\n",
    "df"
   ]
  },
  {
   "cell_type": "code",
   "execution_count": 9,
   "metadata": {},
   "outputs": [
    {
     "data": {
      "text/plain": [
       "datetime.datetime(1900, 1, 1, 0, 10)"
      ]
     },
     "execution_count": 9,
     "metadata": {},
     "output_type": "execute_result"
    }
   ],
   "source": [
    "start_var_time = datetime(1900, 1, 1, 0, 10)\n",
    "start_var_time"
   ]
  },
  {
   "cell_type": "code",
   "execution_count": 10,
   "metadata": {},
   "outputs": [],
   "source": [
    "d = {}"
   ]
  },
  {
   "cell_type": "code",
   "execution_count": 11,
   "metadata": {},
   "outputs": [],
   "source": [
    "for i in range(340):\n",
    "    st = start_var_time + timedelta(minutes = i)\n",
    "    et = start_var_time + timedelta(minutes = 10+i)\n",
    "    \n",
    "    temp = df[(df['SDT'] >= st) & (df['SDT'] <= et)]\n",
    "    temp = temp[['Driver', 'LTS']].dropna()\n",
    "    \n",
    "    std_vals = temp.groupby('Driver').std()['LTS']\n",
    "    std_vals = std_vals.dropna()\n",
    "    d[i+10] = np.average(std_vals)"
   ]
  },
  {
   "cell_type": "code",
   "execution_count": 12,
   "metadata": {},
   "outputs": [
    {
     "data": {
      "text/plain": [
       "<matplotlib.collections.LineCollection at 0x180e48eaf88>"
      ]
     },
     "execution_count": 12,
     "metadata": {},
     "output_type": "execute_result"
    },
    {
     "data": {
      "image/png": "[encoded data removed]",
      "text/plain": [
       "<Figure size 1080x504 with 1 Axes>"
      ]
     },
     "metadata": {
      "needs_background": "light"
     },
     "output_type": "display_data"
    }
   ],
   "source": [
    "plt.figure(figsize=(15,7))\n",
    "plt.plot(list(d.keys()), list(d.values()))\n",
    "flagtimes = [120.0, 2760.0, 12400.0, 18620.0]\n",
    "flagtimes_m = [f // 60 for f in flagtimes]\n",
    "plt.vlines(flagtimes_m, 0, 80)"
   ]
  },
  {
   "cell_type": "code",
   "execution_count": 7,
   "metadata": {},
   "outputs": [],
   "source": [
    "for driver in drivers:\n",
    "    temp = df[df['Driver'] == driver]\n",
    "    \n",
    "    for i in range(temp.shape[0]-2): \n",
    "        r1 = temp.iloc[i]\n",
    "        r2 = temp.iloc[i+1]\n",
    "        r3 = temp.iloc[i+2]\n",
    "        \n",
    "        if checkGreen(r1['Session Time']) and checkGreen(r2['Session Time']) and checkGreen(r3['Session Time']):\n",
    "            t1 = datetime.strptime(r1['Lap Time'], '%M:%S.%f')\n",
    "            t1s = (t1 - datetime(1900, 1, 1)).total_seconds()\n",
    "            t2 = datetime.strptime(r2['Lap Time'], '%M:%S.%f')\n",
    "            t2s = (t2 - datetime(1900, 1, 1)).total_seconds()\n",
    "            t3 = datetime.strptime(r3['Lap Time'], '%M:%S.%f')\n",
    "            t3s = (t3 - datetime(1900, 1, 1)).total_seconds()\n",
    "            \n",
    "            times = [t1s, t2s, t3s]\n",
    "            moving_var = np.array(times).var()\n",
    "            \n",
    "            lap_var[driver].append(moving_var)\n",
    "        else:\n",
    "            lap_var[driver].append(-1)"
   ]
  },
  {
   "cell_type": "code",
   "execution_count": 7,
   "metadata": {},
   "outputs": [],
   "source": [
    "lap_var_f = {driver: variances for driver, variances in lap_var.items() if len(variances) > 2}"
   ]
  },
  {
   "cell_type": "code",
   "execution_count": 8,
   "metadata": {},
   "outputs": [],
   "source": [
    "with open('../../data/2021/21_lap_var.csv', 'w') as f:\n",
    "    f.write('Driver,Var\\n')\n",
    "    for d, v in lap_var_f.items():\n",
    "        f.write(\"%s,%s\\n\"%(d,v))"
   ]
  }
 ],
 "metadata": {
  "kernelspec": {
   "display_name": "Python 3",
   "language": "python",
   "name": "python3"
  },
  "language_info": {
   "codemirror_mode": {
    "name": "ipython",
    "version": 3
   },
   "file_extension": ".py",
   "mimetype": "text/x-python",
   "name": "python",
   "nbconvert_exporter": "python",
   "pygments_lexer": "ipython3",
   "version": "3.7.6"
  }
 },
 "nbformat": 4,
 "nbformat_minor": 4
}
