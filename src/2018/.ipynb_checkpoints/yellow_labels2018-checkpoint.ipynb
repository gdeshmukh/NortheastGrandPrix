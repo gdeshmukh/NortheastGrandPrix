{
 "cells": [
  {
   "cell_type": "code",
   "execution_count": 2,
   "metadata": {},
   "outputs": [],
   "source": [
    "import pandas as pd\n",
    "from datetime import datetime, timedelta, date\n",
    "from collections import defaultdict\n",
    "import json"
   ]
  },
  {
   "cell_type": "code",
   "execution_count": 3,
   "metadata": {},
   "outputs": [],
   "source": [
    "df = pd.read_csv('../../data/2018/2018_mod.csv')"
   ]
  },
  {
   "cell_type": "code",
   "execution_count": 4,
   "metadata": {},
   "outputs": [
    {
     "data": {
      "text/plain": [
       "[]"
      ]
     },
     "execution_count": 4,
     "metadata": {},
     "output_type": "execute_result"
    }
   ],
   "source": [
    "flag_times = []\n",
    "end_times = []\n",
    "green_flag = True\n",
    "for index, row in df.iterrows():\n",
    "    if row.Flag == 'Green':\n",
    "        if green_flag == False:\n",
    "            end_times.append(row['Session Time'])\n",
    "        green_flag = True\n",
    "    elif green_flag and row.Flag == 'Yellow':\n",
    "        flag_times.append(row['Session Time'])\n",
    "        green_flag = False\n",
    "flag_times"
   ]
  },
  {
   "cell_type": "code",
   "execution_count": null,
   "metadata": {},
   "outputs": [],
   "source": [
    "#[_, _, _, _, 14, 7, 6, _, 912, _, 66]"
   ]
  },
  {
   "cell_type": "code",
   "execution_count": 4,
   "metadata": {},
   "outputs": [
    {
     "name": "stdout",
     "output_type": "stream",
     "text": [
      "[]\n"
     ]
    }
   ],
   "source": [
    "yellow_flag_second_times = []\n",
    "for f in flag_times:\n",
    "    first_flag = datetime.strptime(f, '%Y-%m-%d %H:%M:%S.%f')\n",
    "    starting_date = datetime(1900, 1, 1)\n",
    "    flag_seconds = (first_flag - starting_date).total_seconds()\n",
    "    flag_seconds = flag_seconds//20 * 20\n",
    "    yellow_flag_second_times.append(flag_seconds)\n",
    "yellow_flag_second_times\n",
    "end_second_times = []\n",
    "for e in end_times:\n",
    "    first_end = datetime.strptime(e, '%Y-%m-%d %H:%M:%S.%f')\n",
    "    starting_date = datetime(1900, 1, 1)\n",
    "    end_seconds = (first_end - starting_date).total_seconds()\n",
    "    end_seconds = end_seconds//20 * 20\n",
    "    end_second_times.append(end_seconds)\n",
    "print(yellow_flag_second_times)"
   ]
  },
  {
   "cell_type": "code",
   "execution_count": 5,
   "metadata": {},
   "outputs": [],
   "source": [
    "with open('../../data/2018/18_start_end.csv', 'w') as f:\n",
    "    f.write('Start,End\\n')\n",
    "    for s, e in zip(yellow_flag_second_times,end_second_times):\n",
    "        f.write(\"%s,%s\\n\"%(s, e))"
   ]
  },
  {
   "cell_type": "code",
   "execution_count": 5,
   "metadata": {},
   "outputs": [],
   "source": [
    "with open('../../data/2018/18_start_end_dt.csv', 'w') as f:\n",
    "    f.write('Start,End\\n')\n",
    "    for s, e in zip(flag_times,end_times):\n",
    "        f.write(\"%s,%s\\n\"%(s, e))"
   ]
  },
  {
   "cell_type": "code",
   "execution_count": 6,
   "metadata": {},
   "outputs": [
    {
     "ename": "FileNotFoundError",
     "evalue": "[Errno 2] No such file or directory: '../../data/2018/18_num_drivers.json'",
     "output_type": "error",
     "traceback": [
      "\u001b[0;31m---------------------------------------------------------------------------\u001b[0m",
      "\u001b[0;31mFileNotFoundError\u001b[0m                         Traceback (most recent call last)",
      "\u001b[0;32m<ipython-input-6-e56748d6133f>\u001b[0m in \u001b[0;36m<module>\u001b[0;34m\u001b[0m\n\u001b[0;32m----> 1\u001b[0;31m \u001b[0;32mwith\u001b[0m \u001b[0mopen\u001b[0m\u001b[0;34m(\u001b[0m\u001b[0;34m'../../data/2018/18_num_drivers.json'\u001b[0m\u001b[0;34m)\u001b[0m \u001b[0;32mas\u001b[0m \u001b[0mjson_file\u001b[0m\u001b[0;34m:\u001b[0m\u001b[0;34m\u001b[0m\u001b[0;34m\u001b[0m\u001b[0m\n\u001b[0m\u001b[1;32m      2\u001b[0m     \u001b[0md\u001b[0m \u001b[0;34m=\u001b[0m \u001b[0mjson\u001b[0m\u001b[0;34m.\u001b[0m\u001b[0mload\u001b[0m\u001b[0;34m(\u001b[0m\u001b[0mjson_file\u001b[0m\u001b[0;34m)\u001b[0m\u001b[0;34m\u001b[0m\u001b[0;34m\u001b[0m\u001b[0m\n\u001b[1;32m      3\u001b[0m \u001b[0;34m\u001b[0m\u001b[0m\n\u001b[1;32m      4\u001b[0m \u001b[0mtimes\u001b[0m \u001b[0;34m=\u001b[0m \u001b[0mlist\u001b[0m\u001b[0;34m(\u001b[0m\u001b[0md\u001b[0m\u001b[0;34m.\u001b[0m\u001b[0mkeys\u001b[0m\u001b[0;34m(\u001b[0m\u001b[0;34m)\u001b[0m\u001b[0;34m)\u001b[0m\u001b[0;34m\u001b[0m\u001b[0;34m\u001b[0m\u001b[0m\n\u001b[1;32m      5\u001b[0m \u001b[0mtimes\u001b[0m \u001b[0;34m=\u001b[0m \u001b[0;34m[\u001b[0m\u001b[0mint\u001b[0m\u001b[0;34m(\u001b[0m\u001b[0mt\u001b[0m\u001b[0;34m)\u001b[0m \u001b[0;32mfor\u001b[0m \u001b[0mt\u001b[0m \u001b[0;32min\u001b[0m \u001b[0mtimes\u001b[0m\u001b[0;34m]\u001b[0m\u001b[0;34m\u001b[0m\u001b[0;34m\u001b[0m\u001b[0m\n",
      "\u001b[0;31mFileNotFoundError\u001b[0m: [Errno 2] No such file or directory: '../../data/2018/18_num_drivers.json'"
     ]
    }
   ],
   "source": [
    "with open('../../data/2018/18_num_drivers.json') as json_file:\n",
    "    d = json.load(json_file)\n",
    "    \n",
    "times = list(d.keys())\n",
    "times = [int(t) for t in times]\n",
    "MAXTIME = max(times)"
   ]
  },
  {
   "cell_type": "code",
   "execution_count": 10,
   "metadata": {},
   "outputs": [],
   "source": [
    "is_yellow = {}\n",
    "MAXTIME = 9739\n",
    "for t in range(20, MAXTIME+1, 20):\n",
    "    if t in yellow_flag_second_times or (t+20) in yellow_flag_second_times or (t+40) in yellow_flag_second_times or (t+60) in yellow_flag_second_times:\n",
    "        is_yellow[t] = 1\n",
    "    else:\n",
    "        is_yellow[t] = 0"
   ]
  },
  {
   "cell_type": "code",
   "execution_count": 11,
   "metadata": {},
   "outputs": [],
   "source": [
    "with open('../../data/2018/18_yellow_labels.csv', 'w') as f:\n",
    "    f.write('Time,Yellow\\n')\n",
    "    for key in is_yellow.keys():\n",
    "        f.write(\"%s,%s\\n\"%(key, is_yellow[key]))"
   ]
  },
  {
   "cell_type": "code",
   "execution_count": null,
   "metadata": {},
   "outputs": [],
   "source": []
  }
 ],
 "metadata": {
  "kernelspec": {
   "display_name": "Python 3",
   "language": "python",
   "name": "python3"
  },
  "language_info": {
   "codemirror_mode": {
    "name": "ipython",
    "version": 3
   },
   "file_extension": ".py",
   "mimetype": "text/x-python",
   "name": "python",
   "nbconvert_exporter": "python",
   "pygments_lexer": "ipython3",
   "version": "3.7.6"
  }
 },
 "nbformat": 4,
 "nbformat_minor": 4
}
